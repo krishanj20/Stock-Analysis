{
 "cells": [
  {
   "cell_type": "code",
   "execution_count": 1,
   "metadata": {
    "scrolled": false
   },
   "outputs": [],
   "source": [
    "# AAPL TSLA NFLX MSFT NVDA\n",
    "import pandas as pd\n",
    "import pandas_datareader as pdr\n",
    "import numpy as np\n",
    "import matplotlib.pyplot as plt"
   ]
  },
  {
   "cell_type": "code",
   "execution_count": 2,
   "metadata": {},
   "outputs": [
    {
     "name": "stdout",
     "output_type": "stream",
     "text": [
      "['AAPL', 'NVDA', 'TSLA', 'AMZN', 'GOOG']\n"
     ]
    }
   ],
   "source": [
    "#From csv, get stocks and dates\n",
    "import csv\n",
    "with open('tickers.csv') as csvfile:\n",
    "    spamreader = csv.reader(csvfile)\n",
    "    for row in spamreader:\n",
    "        if row[0] == 'ï»¿stocks:':\n",
    "            ticker = row\n",
    "            del ticker[0]\n",
    "        \n",
    "print(ticker)"
   ]
  },
  {
   "cell_type": "code",
   "execution_count": 3,
   "metadata": {},
   "outputs": [],
   "source": [
    "# Pulling Data\n",
    "data = []\n",
    "for i in range(len(ticker)):\n",
    "    data.append(\n",
    "        pdr.get_data_tiingo(ticker[i], api_key='bf2663618907db14116db19a8108c44b96a1a37d',\n",
    "                                start='2015-01-01', end='2020-01-01'))"
   ]
  },
  {
   "cell_type": "code",
   "execution_count": 4,
   "metadata": {
    "scrolled": true
   },
   "outputs": [],
   "source": [
    "# Cleaning Data\n",
    "data1 = []\n",
    "for df in data:\n",
    "    df.reset_index(inplace=True)\n",
    "    df.index = pd.to_datetime(df['date'])\n",
    "    data1.append(df['adjClose'])"
   ]
  },
  {
   "cell_type": "code",
   "execution_count": 5,
   "metadata": {},
   "outputs": [
    {
     "data": {
      "text/html": [
       "<div>\n",
       "<style scoped>\n",
       "    .dataframe tbody tr th:only-of-type {\n",
       "        vertical-align: middle;\n",
       "    }\n",
       "\n",
       "    .dataframe tbody tr th {\n",
       "        vertical-align: top;\n",
       "    }\n",
       "\n",
       "    .dataframe thead th {\n",
       "        text-align: right;\n",
       "    }\n",
       "</style>\n",
       "<table border=\"1\" class=\"dataframe\">\n",
       "  <thead>\n",
       "    <tr style=\"text-align: right;\">\n",
       "      <th></th>\n",
       "      <th>AAPL</th>\n",
       "      <th>NVDA</th>\n",
       "      <th>TSLA</th>\n",
       "      <th>AMZN</th>\n",
       "      <th>GOOG</th>\n",
       "    </tr>\n",
       "    <tr>\n",
       "      <th>date</th>\n",
       "      <th></th>\n",
       "      <th></th>\n",
       "      <th></th>\n",
       "      <th></th>\n",
       "      <th></th>\n",
       "    </tr>\n",
       "  </thead>\n",
       "  <tbody>\n",
       "    <tr>\n",
       "      <td>2015-01-02 00:00:00+00:00</td>\n",
       "      <td>99.941997</td>\n",
       "      <td>19.389508</td>\n",
       "      <td>219.310</td>\n",
       "      <td>308.52</td>\n",
       "      <td>524.81</td>\n",
       "    </tr>\n",
       "    <tr>\n",
       "      <td>2015-01-05 00:00:00+00:00</td>\n",
       "      <td>97.126472</td>\n",
       "      <td>19.062015</td>\n",
       "      <td>210.090</td>\n",
       "      <td>302.19</td>\n",
       "      <td>513.87</td>\n",
       "    </tr>\n",
       "    <tr>\n",
       "      <td>2015-01-06 00:00:00+00:00</td>\n",
       "      <td>97.135613</td>\n",
       "      <td>18.484087</td>\n",
       "      <td>211.280</td>\n",
       "      <td>295.29</td>\n",
       "      <td>501.96</td>\n",
       "    </tr>\n",
       "    <tr>\n",
       "      <td>2015-01-07 00:00:00+00:00</td>\n",
       "      <td>98.497669</td>\n",
       "      <td>18.431110</td>\n",
       "      <td>210.950</td>\n",
       "      <td>298.42</td>\n",
       "      <td>501.10</td>\n",
       "    </tr>\n",
       "    <tr>\n",
       "      <td>2015-01-08 00:00:00+00:00</td>\n",
       "      <td>102.282173</td>\n",
       "      <td>19.129440</td>\n",
       "      <td>210.615</td>\n",
       "      <td>300.46</td>\n",
       "      <td>502.68</td>\n",
       "    </tr>\n",
       "    <tr>\n",
       "      <td>...</td>\n",
       "      <td>...</td>\n",
       "      <td>...</td>\n",
       "      <td>...</td>\n",
       "      <td>...</td>\n",
       "      <td>...</td>\n",
       "    </tr>\n",
       "    <tr>\n",
       "      <td>2019-12-24 00:00:00+00:00</td>\n",
       "      <td>282.839838</td>\n",
       "      <td>238.360191</td>\n",
       "      <td>425.250</td>\n",
       "      <td>1789.21</td>\n",
       "      <td>1343.56</td>\n",
       "    </tr>\n",
       "    <tr>\n",
       "      <td>2019-12-26 00:00:00+00:00</td>\n",
       "      <td>288.451463</td>\n",
       "      <td>238.929571</td>\n",
       "      <td>430.940</td>\n",
       "      <td>1868.77</td>\n",
       "      <td>1360.40</td>\n",
       "    </tr>\n",
       "    <tr>\n",
       "      <td>2019-12-27 00:00:00+00:00</td>\n",
       "      <td>288.342016</td>\n",
       "      <td>236.612097</td>\n",
       "      <td>430.380</td>\n",
       "      <td>1869.80</td>\n",
       "      <td>1351.89</td>\n",
       "    </tr>\n",
       "    <tr>\n",
       "      <td>2019-12-30 00:00:00+00:00</td>\n",
       "      <td>290.053363</td>\n",
       "      <td>232.067051</td>\n",
       "      <td>414.700</td>\n",
       "      <td>1846.89</td>\n",
       "      <td>1336.14</td>\n",
       "    </tr>\n",
       "    <tr>\n",
       "      <td>2019-12-31 00:00:00+00:00</td>\n",
       "      <td>292.172647</td>\n",
       "      <td>235.043806</td>\n",
       "      <td>418.330</td>\n",
       "      <td>1847.84</td>\n",
       "      <td>1337.02</td>\n",
       "    </tr>\n",
       "  </tbody>\n",
       "</table>\n",
       "<p>1258 rows × 5 columns</p>\n",
       "</div>"
      ],
      "text/plain": [
       "                                 AAPL        NVDA     TSLA     AMZN     GOOG\n",
       "date                                                                        \n",
       "2015-01-02 00:00:00+00:00   99.941997   19.389508  219.310   308.52   524.81\n",
       "2015-01-05 00:00:00+00:00   97.126472   19.062015  210.090   302.19   513.87\n",
       "2015-01-06 00:00:00+00:00   97.135613   18.484087  211.280   295.29   501.96\n",
       "2015-01-07 00:00:00+00:00   98.497669   18.431110  210.950   298.42   501.10\n",
       "2015-01-08 00:00:00+00:00  102.282173   19.129440  210.615   300.46   502.68\n",
       "...                               ...         ...      ...      ...      ...\n",
       "2019-12-24 00:00:00+00:00  282.839838  238.360191  425.250  1789.21  1343.56\n",
       "2019-12-26 00:00:00+00:00  288.451463  238.929571  430.940  1868.77  1360.40\n",
       "2019-12-27 00:00:00+00:00  288.342016  236.612097  430.380  1869.80  1351.89\n",
       "2019-12-30 00:00:00+00:00  290.053363  232.067051  414.700  1846.89  1336.14\n",
       "2019-12-31 00:00:00+00:00  292.172647  235.043806  418.330  1847.84  1337.02\n",
       "\n",
       "[1258 rows x 5 columns]"
      ]
     },
     "execution_count": 5,
     "metadata": {},
     "output_type": "execute_result"
    }
   ],
   "source": [
    "# Combining our adjClose prices\n",
    "stocks = pd.concat(data1, axis=1)\n",
    "stocks.columns = ticker\n",
    "stocks"
   ]
  },
  {
   "cell_type": "code",
   "execution_count": 6,
   "metadata": {},
   "outputs": [
    {
     "data": {
      "text/html": [
       "<div>\n",
       "<style scoped>\n",
       "    .dataframe tbody tr th:only-of-type {\n",
       "        vertical-align: middle;\n",
       "    }\n",
       "\n",
       "    .dataframe tbody tr th {\n",
       "        vertical-align: top;\n",
       "    }\n",
       "\n",
       "    .dataframe thead th {\n",
       "        text-align: right;\n",
       "    }\n",
       "</style>\n",
       "<table border=\"1\" class=\"dataframe\">\n",
       "  <thead>\n",
       "    <tr style=\"text-align: right;\">\n",
       "      <th></th>\n",
       "      <th>AAPL</th>\n",
       "      <th>NVDA</th>\n",
       "      <th>TSLA</th>\n",
       "      <th>AMZN</th>\n",
       "      <th>GOOG</th>\n",
       "    </tr>\n",
       "  </thead>\n",
       "  <tbody>\n",
       "    <tr>\n",
       "      <td>AAPL</td>\n",
       "      <td>0.061887</td>\n",
       "      <td>0.045966</td>\n",
       "      <td>0.033326</td>\n",
       "      <td>0.035838</td>\n",
       "      <td>0.031166</td>\n",
       "    </tr>\n",
       "    <tr>\n",
       "      <td>NVDA</td>\n",
       "      <td>0.045966</td>\n",
       "      <td>0.178919</td>\n",
       "      <td>0.053629</td>\n",
       "      <td>0.050436</td>\n",
       "      <td>0.042803</td>\n",
       "    </tr>\n",
       "    <tr>\n",
       "      <td>TSLA</td>\n",
       "      <td>0.033326</td>\n",
       "      <td>0.053629</td>\n",
       "      <td>0.201087</td>\n",
       "      <td>0.041150</td>\n",
       "      <td>0.031236</td>\n",
       "    </tr>\n",
       "    <tr>\n",
       "      <td>AMZN</td>\n",
       "      <td>0.035838</td>\n",
       "      <td>0.050436</td>\n",
       "      <td>0.041150</td>\n",
       "      <td>0.083985</td>\n",
       "      <td>0.044736</td>\n",
       "    </tr>\n",
       "    <tr>\n",
       "      <td>GOOG</td>\n",
       "      <td>0.031166</td>\n",
       "      <td>0.042803</td>\n",
       "      <td>0.031236</td>\n",
       "      <td>0.044736</td>\n",
       "      <td>0.056829</td>\n",
       "    </tr>\n",
       "  </tbody>\n",
       "</table>\n",
       "</div>"
      ],
      "text/plain": [
       "          AAPL      NVDA      TSLA      AMZN      GOOG\n",
       "AAPL  0.061887  0.045966  0.033326  0.035838  0.031166\n",
       "NVDA  0.045966  0.178919  0.053629  0.050436  0.042803\n",
       "TSLA  0.033326  0.053629  0.201087  0.041150  0.031236\n",
       "AMZN  0.035838  0.050436  0.041150  0.083985  0.044736\n",
       "GOOG  0.031166  0.042803  0.031236  0.044736  0.056829"
      ]
     },
     "execution_count": 6,
     "metadata": {},
     "output_type": "execute_result"
    }
   ],
   "source": [
    "# Log returns and covariance needed for the Sharpe Ratio \n",
    "log_returns = np.log(stocks/stocks.shift(1))\n",
    "log_returns.dropna(inplace=True)\n",
    "\n",
    "\n",
    "log_returns.cov() * 252"
   ]
  },
  {
   "cell_type": "code",
   "execution_count": 7,
   "metadata": {},
   "outputs": [
    {
     "data": {
      "text/plain": [
       "array([0.22962052, 0.11103341, 0.07733988, 0.26838394, 0.31362225])"
      ]
     },
     "execution_count": 7,
     "metadata": {},
     "output_type": "execute_result"
    }
   ],
   "source": [
    "# Generating a random set of normalised weights\n",
    "weights = np.array(np.random.random(5))\n",
    "weights = weights/np.sum(weights)\n",
    "weights"
   ]
  },
  {
   "cell_type": "code",
   "execution_count": 8,
   "metadata": {},
   "outputs": [],
   "source": [
    "# Variable that determines number of random portfolios to generate\n",
    "num_portfolios = 10000"
   ]
  },
  {
   "cell_type": "code",
   "execution_count": 9,
   "metadata": {},
   "outputs": [],
   "source": [
    "# Defining the arrays to \"store\" all our random portfolio and their statistics in its ith position\n",
    "weights_array = np.zeros((num_portfolios, len(stocks.columns)))\n",
    "returns_array = np.zeros(num_portfolios)\n",
    "vol_array = np.zeros(num_portfolios)\n",
    "sharpe_array = np.zeros(num_portfolios)"
   ]
  },
  {
   "cell_type": "code",
   "execution_count": 10,
   "metadata": {},
   "outputs": [],
   "source": [
    "for i in range(num_portfolios):\n",
    "    weights = np.array(np.random.random(5))\n",
    "    weights = weights/np.sum(weights)\n",
    "    \n",
    "    #Storing the portfolio weights/returns/vol/sharpe ratio in the ith position\n",
    "    weights = weights_array[i,:] = weights\n",
    "    \n",
    "    returns_array[i] = np.sum(log_returns.mean()*252*weights)\n",
    "    \n",
    "    vol_array[i] = np.sqrt(np.dot(weights.T,np.dot(log_returns.cov()*252,weights)))\n",
    "    \n",
    "    sharpe_array[i] = returns_array[i]/vol_array[i]"
   ]
  },
  {
   "cell_type": "code",
   "execution_count": 11,
   "metadata": {},
   "outputs": [
    {
     "data": {
      "text/plain": [
       "1.4343734404763584"
      ]
     },
     "execution_count": 11,
     "metadata": {},
     "output_type": "execute_result"
    }
   ],
   "source": [
    "sharpe_array.max() # Our maximum Sharpe Ratio amongst the random portfolios"
   ]
  },
  {
   "cell_type": "code",
   "execution_count": 12,
   "metadata": {},
   "outputs": [
    {
     "data": {
      "text/plain": [
       "6543"
      ]
     },
     "execution_count": 12,
     "metadata": {},
     "output_type": "execute_result"
    }
   ],
   "source": [
    "sharpe_array.argmax() # Index position wihtin sharpe_array of the maximum Sharpe Ratio"
   ]
  },
  {
   "cell_type": "code",
   "execution_count": 13,
   "metadata": {},
   "outputs": [
    {
     "data": {
      "text/plain": [
       "array([0.15053449, 0.2853559 , 0.00712127, 0.55414232, 0.00284602])"
      ]
     },
     "execution_count": 13,
     "metadata": {},
     "output_type": "execute_result"
    }
   ],
   "source": [
    "weights_array[sharpe_array.argmax()] # The weightings for the 5 stocks of this maximum Sharpe Ratio portfolio"
   ]
  },
  {
   "cell_type": "code",
   "execution_count": 14,
   "metadata": {},
   "outputs": [],
   "source": [
    "# Plotting our portfolios on a return-volatility plot\n",
    "#plt.scatter(vol_array,returns_array,c=sharpe_array,cmap='coolwarm')\n",
    "#plt.colorbar(label='Sharpe Ratio')\n",
    "#plt.xlabel = 'volatility'\n",
    "#plt.ylabel = 'returns'"
   ]
  },
  {
   "cell_type": "code",
   "execution_count": 28,
   "metadata": {},
   "outputs": [
    {
     "data": {
      "image/png": "[encoded data removed]",
      "text/plain": [
       "<Figure size 432x288 with 2 Axes>"
      ]
     },
     "metadata": {},
     "output_type": "display_data"
    }
   ],
   "source": [
    "# Plotting our portfolios but with the best portfolio as a unique point\n",
    "import seaborn as sns\n",
    "sns.set()\n",
    "\n",
    "max_SR_return = returns_array[sharpe_array.argmax()]\n",
    "max_SR_vol = vol_array[sharpe_array.argmax()]\n",
    "\n",
    "plt.scatter(vol_array,returns_array,c=sharpe_array,cmap='coolwarm')\n",
    "plt.colorbar(label='Sharpe Ratio')\n",
    "plt.scatter(max_SR_vol, max_SR_return,c='yellow',edgecolors='black',s=70)\n",
    "plt.xlabel('Volatility')\n",
    "plt.ylabel('Returns')\n",
    "plt.title('Efficient Frontier')\n",
    "plt.savefig('Outputs/Efficient_Frontier.png')"
   ]
  },
  {
   "cell_type": "code",
   "execution_count": 34,
   "metadata": {},
   "outputs": [
    {
     "data": {
      "image/png": "[encoded data removed]",
      "text/plain": [
       "<Figure size 432x288 with 1 Axes>"
      ]
     },
     "metadata": {},
     "output_type": "display_data"
    }
   ],
   "source": [
    "sns.set()\n",
    "plt.pie(weights_array[sharpe_array.argmax()], labels = ticker, autopct='%1.1f%%')\n",
    "plt.savefig('Outputs/Portfolio_share.png')"
   ]
  },
  {
   "cell_type": "code",
   "execution_count": null,
   "metadata": {},
   "outputs": [],
   "source": []
  }
 ],
 "metadata": {
  "kernelspec": {
   "display_name": "Python 3",
   "language": "python",
   "name": "python3"
  },
  "language_info": {
   "codemirror_mode": {
    "name": "ipython",
    "version": 3
   },
   "file_extension": ".py",
   "mimetype": "text/x-python",
   "name": "python",
   "nbconvert_exporter": "python",
   "pygments_lexer": "ipython3",
   "version": "3.7.4"
  }
 },
 "nbformat": 4,
 "nbformat_minor": 2
}
