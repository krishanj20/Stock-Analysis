{
 "cells": [
  {
   "cell_type": "code",
   "execution_count": 2,
   "metadata": {
    "scrolled": false
   },
   "outputs": [],
   "source": [
    "# AAPL TSLA NFLX MSFT NVDA\n",
    "import pandas as pd\n",
    "import pandas_datareader as pdr\n",
    "import numpy as np\n",
    "import matplotlib.pyplot as plt\n",
    "\n",
    "# Pulling Data\n",
    "aapl = pdr.get_data_tiingo('AAPL', api_key='bf2663618907db14116db19a8108c44b96a1a37d', start='2015-01-01', end='2020-01-01')\n",
    "tsla = pdr.get_data_tiingo('TSLA', api_key='bf2663618907db14116db19a8108c44b96a1a37d', start='2015-01-01', end='2020-01-01')\n",
    "nflx = pdr.get_data_tiingo('NFLX', api_key='bf2663618907db14116db19a8108c44b96a1a37d', start='2015-01-01', end='2020-01-01')\n",
    "msft = pdr.get_data_tiingo('MSFT', api_key='bf2663618907db14116db19a8108c44b96a1a37d', start='2015-01-01', end='2020-01-01')\n",
    "nvda = pdr.get_data_tiingo('NVDA', api_key='bf2663618907db14116db19a8108c44b96a1a37d', start='2015-01-01', end='2020-01-01')"
   ]
  },
  {
   "cell_type": "code",
   "execution_count": 3,
   "metadata": {
    "scrolled": true
   },
   "outputs": [],
   "source": [
    "# Cleaning Data\n",
    "aapl.reset_index(inplace=True)\n",
    "aapl.index = pd.to_datetime(aapl['date'])\n",
    "tsla.reset_index(inplace=True)\n",
    "tsla.index = pd.to_datetime(tsla['date'])\n",
    "nflx.reset_index(inplace=True)\n",
    "nflx.index = pd.to_datetime(nflx['date'])\n",
    "msft.reset_index(inplace=True)\n",
    "msft.index = pd.to_datetime(msft['date'])\n",
    "nvda.reset_index(inplace=True)\n",
    "nvda.index = pd.to_datetime(nvda['date'])"
   ]
  },
  {
   "cell_type": "code",
   "execution_count": 4,
   "metadata": {},
   "outputs": [
    {
     "data": {
      "text/html": [
       "<div>\n",
       "<style scoped>\n",
       "    .dataframe tbody tr th:only-of-type {\n",
       "        vertical-align: middle;\n",
       "    }\n",
       "\n",
       "    .dataframe tbody tr th {\n",
       "        vertical-align: top;\n",
       "    }\n",
       "\n",
       "    .dataframe thead th {\n",
       "        text-align: right;\n",
       "    }\n",
       "</style>\n",
       "<table border=\"1\" class=\"dataframe\">\n",
       "  <thead>\n",
       "    <tr style=\"text-align: right;\">\n",
       "      <th></th>\n",
       "      <th>aapl</th>\n",
       "      <th>tsla</th>\n",
       "      <th>nflx</th>\n",
       "      <th>msft</th>\n",
       "      <th>nvda</th>\n",
       "    </tr>\n",
       "    <tr>\n",
       "      <th>date</th>\n",
       "      <th></th>\n",
       "      <th></th>\n",
       "      <th></th>\n",
       "      <th></th>\n",
       "      <th></th>\n",
       "    </tr>\n",
       "  </thead>\n",
       "  <tbody>\n",
       "    <tr>\n",
       "      <td>2015-01-02 00:00:00+00:00</td>\n",
       "      <td>99.941997</td>\n",
       "      <td>219.310</td>\n",
       "      <td>49.848522</td>\n",
       "      <td>41.752553</td>\n",
       "      <td>19.389508</td>\n",
       "    </tr>\n",
       "    <tr>\n",
       "      <td>2015-01-05 00:00:00+00:00</td>\n",
       "      <td>97.126472</td>\n",
       "      <td>210.090</td>\n",
       "      <td>47.311381</td>\n",
       "      <td>41.364136</td>\n",
       "      <td>19.062015</td>\n",
       "    </tr>\n",
       "    <tr>\n",
       "      <td>2015-01-06 00:00:00+00:00</td>\n",
       "      <td>97.135613</td>\n",
       "      <td>211.280</td>\n",
       "      <td>46.501382</td>\n",
       "      <td>40.761421</td>\n",
       "      <td>18.484087</td>\n",
       "    </tr>\n",
       "    <tr>\n",
       "      <td>2015-01-07 00:00:00+00:00</td>\n",
       "      <td>98.497669</td>\n",
       "      <td>210.950</td>\n",
       "      <td>46.742810</td>\n",
       "      <td>41.279309</td>\n",
       "      <td>18.431110</td>\n",
       "    </tr>\n",
       "    <tr>\n",
       "      <td>2015-01-08 00:00:00+00:00</td>\n",
       "      <td>102.282173</td>\n",
       "      <td>210.615</td>\n",
       "      <td>47.779238</td>\n",
       "      <td>42.493669</td>\n",
       "      <td>19.129440</td>\n",
       "    </tr>\n",
       "    <tr>\n",
       "      <td>...</td>\n",
       "      <td>...</td>\n",
       "      <td>...</td>\n",
       "      <td>...</td>\n",
       "      <td>...</td>\n",
       "      <td>...</td>\n",
       "    </tr>\n",
       "    <tr>\n",
       "      <td>2019-12-24 00:00:00+00:00</td>\n",
       "      <td>282.839838</td>\n",
       "      <td>425.250</td>\n",
       "      <td>333.200000</td>\n",
       "      <td>156.522627</td>\n",
       "      <td>238.360191</td>\n",
       "    </tr>\n",
       "    <tr>\n",
       "      <td>2019-12-26 00:00:00+00:00</td>\n",
       "      <td>288.451463</td>\n",
       "      <td>430.940</td>\n",
       "      <td>332.630000</td>\n",
       "      <td>157.805599</td>\n",
       "      <td>238.929571</td>\n",
       "    </tr>\n",
       "    <tr>\n",
       "      <td>2019-12-27 00:00:00+00:00</td>\n",
       "      <td>288.342016</td>\n",
       "      <td>430.380</td>\n",
       "      <td>329.090000</td>\n",
       "      <td>158.094019</td>\n",
       "      <td>236.612097</td>\n",
       "    </tr>\n",
       "    <tr>\n",
       "      <td>2019-12-30 00:00:00+00:00</td>\n",
       "      <td>290.053363</td>\n",
       "      <td>414.700</td>\n",
       "      <td>323.310000</td>\n",
       "      <td>156.731483</td>\n",
       "      <td>232.067051</td>\n",
       "    </tr>\n",
       "    <tr>\n",
       "      <td>2019-12-31 00:00:00+00:00</td>\n",
       "      <td>292.172647</td>\n",
       "      <td>418.330</td>\n",
       "      <td>323.570000</td>\n",
       "      <td>156.840883</td>\n",
       "      <td>235.043806</td>\n",
       "    </tr>\n",
       "  </tbody>\n",
       "</table>\n",
       "<p>1258 rows × 5 columns</p>\n",
       "</div>"
      ],
      "text/plain": [
       "                                 aapl     tsla        nflx        msft  \\\n",
       "date                                                                     \n",
       "2015-01-02 00:00:00+00:00   99.941997  219.310   49.848522   41.752553   \n",
       "2015-01-05 00:00:00+00:00   97.126472  210.090   47.311381   41.364136   \n",
       "2015-01-06 00:00:00+00:00   97.135613  211.280   46.501382   40.761421   \n",
       "2015-01-07 00:00:00+00:00   98.497669  210.950   46.742810   41.279309   \n",
       "2015-01-08 00:00:00+00:00  102.282173  210.615   47.779238   42.493669   \n",
       "...                               ...      ...         ...         ...   \n",
       "2019-12-24 00:00:00+00:00  282.839838  425.250  333.200000  156.522627   \n",
       "2019-12-26 00:00:00+00:00  288.451463  430.940  332.630000  157.805599   \n",
       "2019-12-27 00:00:00+00:00  288.342016  430.380  329.090000  158.094019   \n",
       "2019-12-30 00:00:00+00:00  290.053363  414.700  323.310000  156.731483   \n",
       "2019-12-31 00:00:00+00:00  292.172647  418.330  323.570000  156.840883   \n",
       "\n",
       "                                 nvda  \n",
       "date                                   \n",
       "2015-01-02 00:00:00+00:00   19.389508  \n",
       "2015-01-05 00:00:00+00:00   19.062015  \n",
       "2015-01-06 00:00:00+00:00   18.484087  \n",
       "2015-01-07 00:00:00+00:00   18.431110  \n",
       "2015-01-08 00:00:00+00:00   19.129440  \n",
       "...                               ...  \n",
       "2019-12-24 00:00:00+00:00  238.360191  \n",
       "2019-12-26 00:00:00+00:00  238.929571  \n",
       "2019-12-27 00:00:00+00:00  236.612097  \n",
       "2019-12-30 00:00:00+00:00  232.067051  \n",
       "2019-12-31 00:00:00+00:00  235.043806  \n",
       "\n",
       "[1258 rows x 5 columns]"
      ]
     },
     "execution_count": 4,
     "metadata": {},
     "output_type": "execute_result"
    }
   ],
   "source": [
    "# Combining our adjClose prices\n",
    "stocks = pd.concat([aapl['adjClose'],tsla['adjClose'],nflx['adjClose'],msft['adjClose'],nvda['adjClose']], axis=1)\n",
    "stocks.columns = ['aapl', 'tsla', 'nflx','msft','nvda']\n",
    "stocks"
   ]
  },
  {
   "cell_type": "code",
   "execution_count": 5,
   "metadata": {},
   "outputs": [
    {
     "data": {
      "text/html": [
       "<div>\n",
       "<style scoped>\n",
       "    .dataframe tbody tr th:only-of-type {\n",
       "        vertical-align: middle;\n",
       "    }\n",
       "\n",
       "    .dataframe tbody tr th {\n",
       "        vertical-align: top;\n",
       "    }\n",
       "\n",
       "    .dataframe thead th {\n",
       "        text-align: right;\n",
       "    }\n",
       "</style>\n",
       "<table border=\"1\" class=\"dataframe\">\n",
       "  <thead>\n",
       "    <tr style=\"text-align: right;\">\n",
       "      <th></th>\n",
       "      <th>aapl</th>\n",
       "      <th>tsla</th>\n",
       "      <th>nflx</th>\n",
       "      <th>msft</th>\n",
       "      <th>nvda</th>\n",
       "    </tr>\n",
       "  </thead>\n",
       "  <tbody>\n",
       "    <tr>\n",
       "      <td>aapl</td>\n",
       "      <td>0.061887</td>\n",
       "      <td>0.033326</td>\n",
       "      <td>0.038285</td>\n",
       "      <td>0.033279</td>\n",
       "      <td>0.045966</td>\n",
       "    </tr>\n",
       "    <tr>\n",
       "      <td>tsla</td>\n",
       "      <td>0.033326</td>\n",
       "      <td>0.201087</td>\n",
       "      <td>0.055566</td>\n",
       "      <td>0.032604</td>\n",
       "      <td>0.053629</td>\n",
       "    </tr>\n",
       "    <tr>\n",
       "      <td>nflx</td>\n",
       "      <td>0.038285</td>\n",
       "      <td>0.055566</td>\n",
       "      <td>0.170276</td>\n",
       "      <td>0.042707</td>\n",
       "      <td>0.062268</td>\n",
       "    </tr>\n",
       "    <tr>\n",
       "      <td>msft</td>\n",
       "      <td>0.033279</td>\n",
       "      <td>0.032604</td>\n",
       "      <td>0.042707</td>\n",
       "      <td>0.054091</td>\n",
       "      <td>0.047036</td>\n",
       "    </tr>\n",
       "    <tr>\n",
       "      <td>nvda</td>\n",
       "      <td>0.045966</td>\n",
       "      <td>0.053629</td>\n",
       "      <td>0.062268</td>\n",
       "      <td>0.047036</td>\n",
       "      <td>0.178919</td>\n",
       "    </tr>\n",
       "  </tbody>\n",
       "</table>\n",
       "</div>"
      ],
      "text/plain": [
       "          aapl      tsla      nflx      msft      nvda\n",
       "aapl  0.061887  0.033326  0.038285  0.033279  0.045966\n",
       "tsla  0.033326  0.201087  0.055566  0.032604  0.053629\n",
       "nflx  0.038285  0.055566  0.170276  0.042707  0.062268\n",
       "msft  0.033279  0.032604  0.042707  0.054091  0.047036\n",
       "nvda  0.045966  0.053629  0.062268  0.047036  0.178919"
      ]
     },
     "execution_count": 5,
     "metadata": {},
     "output_type": "execute_result"
    }
   ],
   "source": [
    "# Log returns and covariance needed for the Sharpe Ratio \n",
    "log_returns = np.log(stocks/stocks.shift(1))\n",
    "log_returns.dropna(inplace=True)\n",
    "\n",
    "\n",
    "log_returns.cov() * 252"
   ]
  },
  {
   "cell_type": "code",
   "execution_count": 6,
   "metadata": {},
   "outputs": [
    {
     "data": {
      "text/plain": [
       "array([0.08279763, 0.30069676, 0.28233009, 0.22462604, 0.10954948])"
      ]
     },
     "execution_count": 6,
     "metadata": {},
     "output_type": "execute_result"
    }
   ],
   "source": [
    "# Generating a random set of normalised weights\n",
    "weights = np.array(np.random.random(5))\n",
    "weights = weights/np.sum(weights)\n",
    "weights"
   ]
  },
  {
   "cell_type": "code",
   "execution_count": 7,
   "metadata": {},
   "outputs": [],
   "source": [
    "# Variable that determines number of random portfolios to generate\n",
    "num_portfolios = 10000"
   ]
  },
  {
   "cell_type": "code",
   "execution_count": 8,
   "metadata": {},
   "outputs": [],
   "source": [
    "# Defining the arrays to \"store\" all our random portfolio and their statistics in its ith position\n",
    "weights_array = np.zeros((num_portfolios, len(stocks.columns)))\n",
    "returns_array = np.zeros(num_portfolios)\n",
    "vol_array = np.zeros(num_portfolios)\n",
    "sharpe_array = np.zeros(num_portfolios)"
   ]
  },
  {
   "cell_type": "code",
   "execution_count": null,
   "metadata": {},
   "outputs": [],
   "source": [
    "for i in range(num_portfolios):\n",
    "    weights = np.array(np.random.random(5))\n",
    "    weights = weights/np.sum(weights)\n",
    "    \n",
    "    #Storing the portfolio weights/returns/vol/sharpe ratio in the ith position\n",
    "    weights = weights_array[i,:] = weights\n",
    "    \n",
    "    returns_array[i] = np.sum(log_returns.mean()*252*weights)\n",
    "    \n",
    "    vol_array[i] = np.sqrt(np.dot(weights.T,np.dot(log_returns.cov()*252,weights)))\n",
    "    \n",
    "    sharpe_array[i] = returns_array[i]/vol_array[i]"
   ]
  },
  {
   "cell_type": "code",
   "execution_count": null,
   "metadata": {},
   "outputs": [],
   "source": [
    "sharpe_array.max() # Our maximum Sharpe Ratio amongst the random portfolios"
   ]
  },
  {
   "cell_type": "code",
   "execution_count": null,
   "metadata": {},
   "outputs": [],
   "source": [
    "sharpe_array.argmax() # Index position wihtin sharpe_array of the maximum Sharpe Ratio"
   ]
  },
  {
   "cell_type": "code",
   "execution_count": null,
   "metadata": {},
   "outputs": [],
   "source": [
    "weights_array[sharpe_array.argmax()] # The weightings for the 5 stocks of this maximum Sharpe Ratio portfolio"
   ]
  },
  {
   "cell_type": "code",
   "execution_count": null,
   "metadata": {},
   "outputs": [],
   "source": [
    "# Plotting our portfolios on a return-volatility plot\n",
    "plt.scatter(vol_array,returns_array,c=sharpe_array,cmap='coolwarm')\n",
    "plt.colorbar(label='Sharpe Ratio')\n",
    "plt.xlabel = 'volatility'\n",
    "plt.ylabel = 'returns'"
   ]
  },
  {
   "cell_type": "code",
   "execution_count": null,
   "metadata": {},
   "outputs": [],
   "source": [
    "# Plotting our portfolios but with the best portfolio as a unique point\n",
    "\n",
    "max_SR_return = returns_array[sharpe_array.argmax()]\n",
    "max_SR_vol = vol_array[sharpe_array.argmax()]\n",
    "\n",
    "plt.scatter(vol_array,returns_array,c=sharpe_array,cmap='coolwarm')\n",
    "plt.scatter(max_SR_vol, max_SR_return,c='yellow',edgecolors='black',s=70)\n",
    "plt.colorbar(label='Sharpe Ratio')\n",
    "plt.xlabel = 'volatility'\n",
    "plt.ylabel = 'returns'"
   ]
  },
  {
   "cell_type": "code",
   "execution_count": null,
   "metadata": {},
   "outputs": [],
   "source": []
  }
 ],
 "metadata": {
  "kernelspec": {
   "display_name": "Python 3",
   "language": "python",
   "name": "python3"
  },
  "language_info": {
   "codemirror_mode": {
    "name": "ipython",
    "version": 3
   },
   "file_extension": ".py",
   "mimetype": "text/x-python",
   "name": "python",
   "nbconvert_exporter": "python",
   "pygments_lexer": "ipython3",
   "version": "3.7.4"
  }
 },
 "nbformat": 4,
 "nbformat_minor": 2
}
