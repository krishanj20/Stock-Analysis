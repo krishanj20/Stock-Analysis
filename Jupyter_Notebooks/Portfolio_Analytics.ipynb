{
 "cells": [
  {
   "cell_type": "markdown",
   "metadata": {},
   "source": [
    "# Backtesting Portfolios"
   ]
  },
  {
   "cell_type": "code",
   "execution_count": 175,
   "metadata": {},
   "outputs": [],
   "source": [
    "import yfinance as yf\n",
    "import matplotlib.pyplot as plt\n",
    "import pandas as pd"
   ]
  },
  {
   "cell_type": "markdown",
   "metadata": {},
   "source": [
    "Below:\n",
    "#### NAMES: Tickers for each stock in the portfolio\n",
    "#### SHARES: The number of shares corresponding to each ticker\n",
    "#### INDICIES: The indicies you want to compare it to"
   ]
  },
  {
   "cell_type": "code",
   "execution_count": 176,
   "metadata": {},
   "outputs": [],
   "source": [
    "#Indicies \n",
    "NAMES = ['MSFT','DIS','SPY']\n",
    "SHARES = [1,5,1]\n",
    "INDICIES = [\"SPY\"]"
   ]
  },
  {
   "cell_type": "markdown",
   "metadata": {},
   "source": [
    "Automatically calculates the number of stocks are in the portfolio, to allow normalisation"
   ]
  },
  {
   "cell_type": "code",
   "execution_count": 177,
   "metadata": {},
   "outputs": [],
   "source": [
    "NUM_SHARES_PORTFOLIO = 0\n",
    "for i in range(len(SHARES)):\n",
    "    NUM_SHARES_PORTFOLIO += SHARES[i]"
   ]
  },
  {
   "cell_type": "code",
   "execution_count": 178,
   "metadata": {},
   "outputs": [],
   "source": [
    "#Create a list of tickers\n",
    "share_list = []\n",
    "\n",
    "for i in range(len(NAMES)):\n",
    "    share_list.append(yf.Ticker(NAMES[i]))\n",
    "\n",
    "indicies_list= []\n",
    "for i in range(len(INDICIES)):\n",
    "    indicies_list.append(yf.Ticker(INDICIES[i]))"
   ]
  },
  {
   "cell_type": "markdown",
   "metadata": {},
   "source": [
    "In the next two, history_shares and history_indicies contain the previous share prices for the last 5 years for stocks and indicies"
   ]
  },
  {
   "cell_type": "code",
   "execution_count": 179,
   "metadata": {},
   "outputs": [],
   "source": [
    "history_shares = []\n",
    "for ticker in share_list:\n",
    "    history_shares.append(ticker.history(period='5y'))"
   ]
  },
  {
   "cell_type": "code",
   "execution_count": 180,
   "metadata": {},
   "outputs": [],
   "source": [
    "history_indicies = []\n",
    "for ticker in indicies_list:\n",
    "    history_indicies.append(ticker.history(period='5y'))"
   ]
  },
  {
   "cell_type": "markdown",
   "metadata": {},
   "source": [
    "The below cell creates a normalised column in history array for each stock, using the price at t = 0 (actually t = 1 in this case due to the nature of the dataframe)"
   ]
  },
  {
   "cell_type": "code",
   "execution_count": 181,
   "metadata": {},
   "outputs": [],
   "source": [
    "for i in range(len(history_shares)):\n",
    "    history_shares[i]['Normalised'] = history_shares[i]['Open']/history_shares[i]['Open'].iloc[1]\n",
    "for i in range(len(history_indicies)):\n",
    "    history_indicies[i]['Normalised'] = history_indicies[i]['Open']/history_indicies[i]['Open'].iloc[1]"
   ]
  },
  {
   "cell_type": "markdown",
   "metadata": {},
   "source": [
    "Plotting each of the shares in your portfolio normalised"
   ]
  },
  {
   "cell_type": "code",
   "execution_count": 182,
   "metadata": {
    "scrolled": false
   },
   "outputs": [
    {
     "data": {
      "image/png": "[encoded data removed]",
      "text/plain": [
       "<Figure size 432x288 with 1 Axes>"
      ]
     },
     "metadata": {
      "needs_background": "light"
     },
     "output_type": "display_data"
    }
   ],
   "source": [
    "for i in range(len(history_shares)):\n",
    "    history_shares[i]['Normalised'].plot(label = NAMES[i])\n",
    "plt.legend()\n",
    "plt.show()"
   ]
  },
  {
   "cell_type": "markdown",
   "metadata": {},
   "source": [
    "This cell is just showing the sheer amount of data available for analytics, for further analysis."
   ]
  },
  {
   "cell_type": "code",
   "execution_count": 183,
   "metadata": {},
   "outputs": [
    {
     "data": {
      "text/plain": [
       "{'zip': '98052',\n",
       " 'sector': 'Technology',\n",
       " 'fullTimeEmployees': 144000,\n",
       " 'longBusinessSummary': \"Microsoft Corporation develops, licenses, and supports software, services, devices, and solutions worldwide. The company's Productivity and Business Processes segment offers Office, Exchange, SharePoint, Microsoft Teams, Office 365 Security and Compliance, and Skype for Business, as well as related Client Access Licenses (CAL); and Skype, Outlook.com, and OneDrive. It also provides LinkedIn that includes Talent and marketing solutions, and subscriptions; and Dynamics 365, a set of cloud-based and on-premises business solutions for small and medium businesses, large organizations, and divisions of enterprises. The company's Intelligent Cloud segment licenses SQL and Windows Servers, Visual Studio, System Center, and related CALs; GitHub that provides a collaboration platform and code hosting service for developers; and Azure, a cloud platform. It also provides support services and Microsoft consulting services to assist customers in developing, deploying, and managing Microsoft server and desktop solutions; and training and certification to developers and IT professionals on various Microsoft products. The company's More Personal Computing segment offers Windows OEM licensing and other non-volume licensing of the Windows operating system; Windows Commercial comprising volume licensing of the Windows operating system, Windows cloud services, and other Windows commercial offerings; patent licensing; Windows Internet of Things; and MSN advertising. It also provides Microsoft Surface, PC accessories, and other intelligent devices; Gaming, including Xbox hardware, and Xbox software and services; video games and third-party video game royalties; and Search, including Bing and Microsoft advertising. The company sells its products through distributors and resellers; and directly through digital marketplaces, online stores, and retail stores. It has strategic partnerships with Humana Inc. and Nokia. The company was founded in 1975 and is headquartered in Redmond, Washington.\",\n",
       " 'city': 'Redmond',\n",
       " 'phone': '425-882-8080',\n",
       " 'state': 'WA',\n",
       " 'country': 'United States',\n",
       " 'companyOfficers': [],\n",
       " 'website': 'http://www.microsoft.com',\n",
       " 'maxAge': 1,\n",
       " 'address1': 'One Microsoft Way',\n",
       " 'fax': '425-706-7329',\n",
       " 'industry': 'Software—Infrastructure',\n",
       " 'previousClose': 185.35,\n",
       " 'regularMarketOpen': 185.605,\n",
       " 'twoHundredDayAverage': 149.25949,\n",
       " 'trailingAnnualDividendYield': 0.010466685,\n",
       " 'payoutRatio': 0.32930002,\n",
       " 'volume24Hr': None,\n",
       " 'regularMarketDayHigh': 187.7,\n",
       " 'navPrice': None,\n",
       " 'averageDailyVolume10Day': 38902480,\n",
       " 'totalAssets': None,\n",
       " 'regularMarketPreviousClose': 185.35,\n",
       " 'fiftyDayAverage': 169.33636,\n",
       " 'trailingAnnualDividendRate': 1.94,\n",
       " 'open': 185.605,\n",
       " 'averageVolume10days': 38902480,\n",
       " 'expireDate': None,\n",
       " 'yield': None,\n",
       " 'algorithm': None,\n",
       " 'dividendRate': 2.04,\n",
       " 'exDividendDate': 1582070400,\n",
       " 'beta': 1.154593,\n",
       " 'circulatingSupply': None,\n",
       " 'startDate': None,\n",
       " 'regularMarketDayLow': 185.5,\n",
       " 'priceHint': 2,\n",
       " 'currency': 'USD',\n",
       " 'trailingPE': 32.612785,\n",
       " 'regularMarketVolume': 26731161,\n",
       " 'lastMarket': None,\n",
       " 'maxSupply': None,\n",
       " 'openInterest': None,\n",
       " 'marketCap': 1424080633856,\n",
       " 'volumeAllCurrencies': None,\n",
       " 'strikePrice': None,\n",
       " 'averageVolume': 25413803,\n",
       " 'priceToSalesTrailing12Months': None,\n",
       " 'dayLow': 185.5,\n",
       " 'ask': 187.35,\n",
       " 'ytdReturn': None,\n",
       " 'askSize': 1300,\n",
       " 'volume': 26731161,\n",
       " 'fiftyTwoWeekHigh': 190.7,\n",
       " 'forwardPE': 29.719046,\n",
       " 'fromCurrency': None,\n",
       " 'fiveYearAvgDividendYield': 2.02,\n",
       " 'fiftyTwoWeekLow': 106.29,\n",
       " 'bid': 187.34,\n",
       " 'tradeable': True,\n",
       " 'dividendYield': 0.011,\n",
       " 'bidSize': 800,\n",
       " 'dayHigh': 187.7,\n",
       " 'annualHoldingsTurnover': None,\n",
       " 'enterpriseToRevenue': 10.151,\n",
       " 'beta3Year': None,\n",
       " 'profitMargins': 0.33016,\n",
       " 'enterpriseToEbitda': 22.243,\n",
       " '52WeekChange': 0.7135066,\n",
       " 'morningStarRiskRating': None,\n",
       " 'forwardEps': 6.3,\n",
       " 'revenueQuarterlyGrowth': None,\n",
       " 'sharesOutstanding': 7606049792,\n",
       " 'fundInceptionDate': None,\n",
       " 'annualReportExpenseRatio': None,\n",
       " 'bookValue': 14.467,\n",
       " 'sharesShort': 56674560,\n",
       " 'sharesPercentSharesOut': 0.0075,\n",
       " 'fundFamily': None,\n",
       " 'lastFiscalYearEnd': 1561852800,\n",
       " 'heldPercentInstitutions': 0.74334997,\n",
       " 'netIncomeToCommon': 44323000320,\n",
       " 'trailingEps': 5.741,\n",
       " 'lastDividendValue': None,\n",
       " 'SandP52WeekChange': 0.21598983,\n",
       " 'priceToBook': 12.941868,\n",
       " 'heldPercentInsiders': 0.014249999,\n",
       " 'nextFiscalYearEnd': 1625011200,\n",
       " 'mostRecentQuarter': 1577750400,\n",
       " 'shortRatio': 2.16,\n",
       " 'sharesShortPreviousMonthDate': 1577750400,\n",
       " 'floatShares': 7494542361,\n",
       " 'enterpriseValue': 1362696863744,\n",
       " 'threeYearAverageReturn': None,\n",
       " 'lastSplitDate': 1045526400,\n",
       " 'lastSplitFactor': '2:1',\n",
       " 'legalType': None,\n",
       " 'morningStarOverallRating': None,\n",
       " 'earningsQuarterlyGrowth': 0.383,\n",
       " 'dateShortInterest': 1580428800,\n",
       " 'pegRatio': 2.2,\n",
       " 'lastCapGain': None,\n",
       " 'shortPercentOfFloat': 0.0075,\n",
       " 'sharesShortPriorMonth': 62706418,\n",
       " 'category': None,\n",
       " 'fiveYearAverageReturn': None}"
      ]
     },
     "execution_count": 183,
     "metadata": {},
     "output_type": "execute_result"
    }
   ],
   "source": [
    "share_list[0].info"
   ]
  },
  {
   "cell_type": "markdown",
   "metadata": {},
   "source": [
    "Create a potfolio dataframe and plot it against your indicies, allowing you to see performance against a benchmark."
   ]
  },
  {
   "cell_type": "code",
   "execution_count": 170,
   "metadata": {},
   "outputs": [],
   "source": [
    "Portfolio = pd.DataFrame()\n",
    "#Portfolio['Value'] = history[0]['Open'] * 1 + history[1]['Open'] * 1\n",
    "#print(len(history_shares))\n",
    "for i in range(len(history_shares)):\n",
    "    if i == 0:\n",
    "        Portfolio['Value'] = history_shares[0]['Normalised'] * SHARES[i]\n",
    "    else:\n",
    "        Portfolio['Value'] = Portfolio['Value'] + history_shares[i]['Normalised']* SHARES[i]\n",
    "Portfolio['Value'] = Portfolio['Value'] / NUM_SHARES_PORTFOLIO\n"
   ]
  },
  {
   "cell_type": "code",
   "execution_count": 171,
   "metadata": {},
   "outputs": [
    {
     "data": {
      "image/png": "[encoded data removed]",
      "text/plain": [
       "<Figure size 432x288 with 1 Axes>"
      ]
     },
     "metadata": {
      "needs_background": "light"
     },
     "output_type": "display_data"
    }
   ],
   "source": [
    "Portfolio['Value'].plot(label = 'Portfolio')\n",
    "for i in range(len(history_indicies)):\n",
    "    history_indicies[i]['Normalised'].plot(label = INDICIES[i])\n",
    "plt.legend()\n",
    "plt.show()"
   ]
  },
  {
   "cell_type": "code",
   "execution_count": null,
   "metadata": {},
   "outputs": [],
   "source": []
  },
  {
   "cell_type": "code",
   "execution_count": null,
   "metadata": {},
   "outputs": [],
   "source": []
  }
 ],
 "metadata": {
  "kernelspec": {
   "display_name": "Python 3",
   "language": "python",
   "name": "python3"
  },
  "language_info": {
   "codemirror_mode": {
    "name": "ipython",
    "version": 3
   },
   "file_extension": ".py",
   "mimetype": "text/x-python",
   "name": "python",
   "nbconvert_exporter": "python",
   "pygments_lexer": "ipython3",
   "version": "3.7.4"
  }
 },
 "nbformat": 4,
 "nbformat_minor": 2
}
